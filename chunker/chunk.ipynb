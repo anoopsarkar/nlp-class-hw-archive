{
 "cells": [
  {
   "cell_type": "markdown",
   "metadata": {},
   "source": [
    "# Homework: Phrasal Chunking"
   ]
  },
  {
   "cell_type": "markdown",
   "metadata": {},
   "source": [
    "This is your documentation for the chunker homework."
   ]
  },
  {
   "cell_type": "code",
   "execution_count": 6,
   "metadata": {},
   "outputs": [
    {
     "name": "stderr",
     "output_type": "stream",
     "text": [
      "reading data ...\n"
     ]
    },
    {
     "name": "stdout",
     "output_type": "stream",
     "text": [
      "wrote model to disk\n"
     ]
    },
    {
     "name": "stderr",
     "output_type": "stream",
     "text": [
      "done.\n"
     ]
    }
   ],
   "source": [
    "import perc\n",
    "import default\n",
    "import sys\n",
    "from collections import defaultdict\n",
    "\n",
    "feat_vec = {}\n",
    "tagset = []\n",
    "train_data = []\n",
    "\n",
    "def perc_train(train_data, tagset, numepochs):\n",
    "    feat_vec = defaultdict(int)\n",
    "    # insert your code here\n",
    "    # please limit the number of iterations of training to n iterations\n",
    "    return feat_vec\n",
    "\n",
    "tagset = perc.read_tagset(\"data/tagset.txt\")\n",
    "print(\"reading data ...\", file=sys.stderr)\n",
    "train_data = perc.read_labeled_data(\"data/train.txt.gz\", \"data/train.feats.gz\", verbose=False)\n",
    "print(\"done.\", file=sys.stderr)\n",
    "feat_vec = perc_train(train_data, tagset, 5)\n",
    "perc.perc_write_to_file(feat_vec, \"default.model\")\n",
    "print(\"wrote model to disk\")"
   ]
  },
  {
   "cell_type": "code",
   "execution_count": 19,
   "metadata": {},
   "outputs": [
    {
     "name": "stderr",
     "output_type": "stream",
     "text": [
      "reading test data ...\n",
      "done.\n"
     ]
    }
   ],
   "source": [
    "%%capture --no-stderr output\n",
    "print(\"reading test data ...\", file=sys.stderr)\n",
    "test_data = perc.read_labeled_data(\"data/dev.txt\", \"data/dev.feats\", verbose=False)\n",
    "print(\"done.\", file=sys.stderr)\n",
    "feat_vec = perc.perc_read_from_file(\"default.model\")\n",
    "perc.perc_testall(feat_vec, test_data, tagset)"
   ]
  },
  {
   "cell_type": "code",
   "execution_count": 22,
   "metadata": {},
   "outputs": [],
   "source": [
    "with open(\"output\", \"w\") as f:\n",
    "    print(output, file=f)"
   ]
  }
 ],
 "metadata": {
  "kernelspec": {
   "display_name": "Python 3",
   "language": "python",
   "name": "python3"
  },
  "language_info": {
   "codemirror_mode": {
    "name": "ipython",
    "version": 3
   },
   "file_extension": ".py",
   "mimetype": "text/x-python",
   "name": "python",
   "nbconvert_exporter": "python",
   "pygments_lexer": "ipython3",
   "version": "3.6.5"
  }
 },
 "nbformat": 4,
 "nbformat_minor": 2
}
