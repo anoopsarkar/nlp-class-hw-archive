{
 "cells": [
  {
   "cell_type": "markdown",
   "metadata": {},
   "source": [
    "# Homework: Decipherment"
   ]
  },
  {
   "cell_type": "code",
   "execution_count": 8,
   "metadata": {},
   "outputs": [],
   "source": [
    "from collections import defaultdict, Counter\n",
    "import collections\n",
    "import pprint\n",
    "import math\n",
    "import bz2\n",
    "pp = pprint.PrettyPrinter(width=45, compact=True)"
   ]
  },
  {
   "cell_type": "markdown",
   "metadata": {},
   "source": [
    "First let us read in the cipher text from the `data` directory:"
   ]
  },
  {
   "cell_type": "code",
   "execution_count": 9,
   "metadata": {},
   "outputs": [
    {
     "name": "stdout",
     "output_type": "stream",
     "text": [
      "º∫P/Z/uB∫ÀOR•–X•B\n",
      "WV+≈GyF∞ºHPπKÇ—y≈\n",
      "MJy^uIÀΩ—T‘NQyDµ£\n",
      "S¢/º∑BPORAu∫∆RÃ—E\n",
      "À^LMZJƒ“\\–FHVW≈æy\n",
      "π+—GDºKI£∞—Xæµ§S¢\n",
      "RN‘IyEÃOæ—GBTQS∑B\n",
      "Lƒ/P∑BπX—EHMu^RRÀ\n",
      "√ZK—–I£W—ÇæµLM“º∑\n",
      "BPDR+j•∞\\N¢≈EuHÀF\n",
      "Z√–OVWIµ+‘L£Ã^R∞H\n",
      "IºDR∏Ty“\\ƒ≈/πXJQA\n",
      "PµMæRu‘∫L£NVEKH•G\n",
      "“IÇJÀµºæLMÃNA£Z¢P\n",
      "§u–ÀAº∑BVW\\+VT‘OP\n",
      "^•S“Ã∆u≈∞ΩD§G∫∫IM\n",
      "NÀ£S√E/º∫∫Z∆AP∑BV\n",
      "–≈X—W—∏F∑æ√+πºAºB\n",
      "∫OTµRu√+∏ƒy—∏^S—W\n",
      "VZ≈GyKE∏TyAº∫∑L‘∏\n",
      "HÇFBXº§XADƒ\\ΩLÇ•—\n",
      "∏≈ƒ∑∑∞≈µPORXQF∫G√\n",
      "ZπJT‘—∏æJI+“BPQW∞\n",
      "VEX“ºWI∞—EHM£•uIÀ\n"
     ]
    }
   ],
   "source": [
    "def read_file(filename):\n",
    "    if filename[-4:] == \".bz2\":\n",
    "        with bz2.open(filename, 'rt') as f:\n",
    "            content = f.read()\n",
    "            f.close()\n",
    "    else:\n",
    "        with open(filename, 'r') as f:\n",
    "            content = f.read()\n",
    "            f.close()\n",
    "    return content\n",
    "\n",
    "cipher = read_file(\"data/cipher.txt\")\n",
    "print(cipher)"
   ]
  },
  {
   "cell_type": "markdown",
   "metadata": {},
   "source": [
    "## Default Solution"
   ]
  },
  {
   "cell_type": "markdown",
   "metadata": {},
   "source": [
    "For the default solution we need to compute statistics like length, number of symbols/letters, \n",
    "unique occurences, frequencies and relative frequencies of a given file. This is done in the function `get_statistics` below.\n",
    "\n",
    "While using `get_statistics`, make sure that `cipher=True` is set when the input is a ciphertext."
   ]
  },
  {
   "cell_type": "code",
   "execution_count": 10,
   "metadata": {},
   "outputs": [],
   "source": [
    "def get_statistics(content, cipher=True):\n",
    "    stats = {}\n",
    "    content = list(content)\n",
    "    split_content = [x for x in content if x != '\\n' and x!=' ']\n",
    "    length = len(split_content)\n",
    "    symbols = set(split_content)\n",
    "    uniq_sym = len(list(symbols))\n",
    "    freq = collections.Counter(split_content)\n",
    "    rel_freq = {}\n",
    "    for sym, frequency in freq.items():\n",
    "        rel_freq[sym] = (frequency/length)*100\n",
    "        \n",
    "    if cipher:\n",
    "        stats = {'content':split_content, 'length':length, 'vocab':list(symbols), 'vocab_length':uniq_sym, 'frequencies':freq, 'relative_freq':rel_freq}\n",
    "    else:\n",
    "        stats = {'length':length, 'vocab':list(symbols), 'vocab_length':uniq_sym, 'frequencies':freq, 'relative_freq':rel_freq}\n",
    "    return stats"
   ]
  },
  {
   "cell_type": "code",
   "execution_count": 11,
   "metadata": {},
   "outputs": [
    {
     "name": "stdout",
     "output_type": "stream",
     "text": [
      "{'content': ['º', '∫', 'P', '/', 'Z', '/',\n",
      "             'u', 'B', '∫', 'À', 'O', 'R',\n",
      "             '•', '–', 'X', '•', 'B', 'W',\n",
      "             'V', '+', '≈', 'G', 'y', 'F',\n",
      "             '∞', 'º', 'H', 'P', 'π', 'K',\n",
      "             'Ç', '—', 'y', '≈', 'M', 'J',\n",
      "             'y', '^', 'u', 'I', 'À', 'Ω',\n",
      "             '—', 'T', '‘', 'N', 'Q', 'y',\n",
      "             'D', 'µ', '£', 'S', '¢', '/',\n",
      "             'º', '∑', 'B', 'P', 'O', 'R',\n",
      "             'A', 'u', '∫', '∆', 'R', 'Ã',\n",
      "             '—', 'E', 'À', '^', 'L', 'M',\n",
      "             'Z', 'J', 'ƒ', '“', '\\\\', '–',\n",
      "             'F', 'H', 'V', 'W', '≈', 'æ',\n",
      "             'y', 'π', '+', '—', 'G', 'D',\n",
      "             'º', 'K', 'I', '£', '∞', '—',\n",
      "             'X', 'æ', 'µ', '§', 'S', '¢',\n",
      "             'R', 'N', '‘', 'I', 'y', 'E',\n",
      "             'Ã', 'O', 'æ', '—', 'G', 'B',\n",
      "             'T', 'Q', 'S', '∑', 'B', 'L',\n",
      "             'ƒ', '/', 'P', '∑', 'B', 'π',\n",
      "             'X', '—', 'E', 'H', 'M', 'u',\n",
      "             '^', 'R', 'R', 'À', '√', 'Z',\n",
      "             'K', '—', '–', 'I', '£', 'W',\n",
      "             '—', 'Ç', 'æ', 'µ', 'L', 'M',\n",
      "             '“', 'º', '∑', 'B', 'P', 'D',\n",
      "             'R', '+', 'j', '•', '∞', '\\\\',\n",
      "             'N', '¢', '≈', 'E', 'u', 'H',\n",
      "             'À', 'F', 'Z', '√', '–', 'O',\n",
      "             'V', 'W', 'I', 'µ', '+', '‘',\n",
      "             'L', '£', 'Ã', '^', 'R', '∞',\n",
      "             'H', 'I', 'º', 'D', 'R', '∏',\n",
      "             'T', 'y', '“', '\\\\', 'ƒ', '≈',\n",
      "             '/', 'π', 'X', 'J', 'Q', 'A',\n",
      "             'P', 'µ', 'M', 'æ', 'R', 'u',\n",
      "             '‘', '∫', 'L', '£', 'N', 'V',\n",
      "             'E', 'K', 'H', '•', 'G', '“',\n",
      "             'I', 'Ç', 'J', 'À', 'µ', 'º',\n",
      "             'æ', 'L', 'M', 'Ã', 'N', 'A',\n",
      "             '£', 'Z', '¢', 'P', '§', 'u',\n",
      "             '–', 'À', 'A', 'º', '∑', 'B',\n",
      "             'V', 'W', '\\\\', '+', 'V', 'T',\n",
      "             '‘', 'O', 'P', '^', '•', 'S',\n",
      "             '“', 'Ã', '∆', 'u', '≈', '∞',\n",
      "             'Ω', 'D', '§', 'G', '∫', '∫',\n",
      "             'I', 'M', 'N', 'À', '£', 'S',\n",
      "             '√', 'E', '/', 'º', '∫', '∫',\n",
      "             'Z', '∆', 'A', 'P', '∑', 'B',\n",
      "             'V', '–', '≈', 'X', '—', 'W',\n",
      "             '—', '∏', 'F', '∑', 'æ', '√',\n",
      "             '+', 'π', 'º', 'A', 'º', 'B',\n",
      "             '∫', 'O', 'T', 'µ', 'R', 'u',\n",
      "             '√', '+', '∏', 'ƒ', 'y', '—',\n",
      "             '∏', '^', 'S', '—', 'W', 'V',\n",
      "             'Z', '≈', 'G', 'y', 'K', 'E',\n",
      "             '∏', 'T', 'y', 'A', 'º', '∫',\n",
      "             '∑', 'L', '‘', '∏', 'H', 'Ç',\n",
      "             'F', 'B', 'X', 'º', '§', 'X',\n",
      "             'A', 'D', 'ƒ', '\\\\', 'Ω', 'L',\n",
      "             'Ç', '•', '—', '∏', '≈', 'ƒ',\n",
      "             '∑', '∑', '∞', '≈', 'µ', 'P',\n",
      "             'O', 'R', 'X', 'Q', 'F', '∫',\n",
      "             'G', '√', 'Z', 'π', 'J', 'T',\n",
      "             '‘', '—', '∏', 'æ', 'J', 'I',\n",
      "             '+', '“', 'B', 'P', 'Q', 'W',\n",
      "             '∞', 'V', 'E', 'X', '“', 'º',\n",
      "             'W', 'I', '∞', '—', 'E', 'H',\n",
      "             'M', '£', '•', 'u', 'I', 'À'],\n",
      " 'frequencies': Counter({'—': 16,\n",
      "                         'º': 14,\n",
      "                         'B': 12,\n",
      "                         'R': 12,\n",
      "                         '∫': 11,\n",
      "                         'P': 11,\n",
      "                         'I': 11,\n",
      "                         'u': 10,\n",
      "                         '≈': 10,\n",
      "                         'y': 10,\n",
      "                         '∑': 10,\n",
      "                         'À': 9,\n",
      "                         'X': 9,\n",
      "                         'W': 9,\n",
      "                         'V': 9,\n",
      "                         'E': 9,\n",
      "                         'Z': 8,\n",
      "                         '+': 8,\n",
      "                         '∞': 8,\n",
      "                         'H': 8,\n",
      "                         'M': 8,\n",
      "                         'µ': 8,\n",
      "                         '£': 8,\n",
      "                         'A': 8,\n",
      "                         'L': 8,\n",
      "                         'æ': 8,\n",
      "                         '∏': 8,\n",
      "                         'O': 7,\n",
      "                         '•': 7,\n",
      "                         'G': 7,\n",
      "                         'T': 7,\n",
      "                         '‘': 7,\n",
      "                         '“': 7,\n",
      "                         '/': 6,\n",
      "                         '–': 6,\n",
      "                         'F': 6,\n",
      "                         'π': 6,\n",
      "                         'J': 6,\n",
      "                         '^': 6,\n",
      "                         'N': 6,\n",
      "                         'D': 6,\n",
      "                         'S': 6,\n",
      "                         'ƒ': 6,\n",
      "                         '√': 6,\n",
      "                         'K': 5,\n",
      "                         'Ç': 5,\n",
      "                         'Q': 5,\n",
      "                         'Ã': 5,\n",
      "                         '\\\\': 5,\n",
      "                         '¢': 4,\n",
      "                         '§': 4,\n",
      "                         'Ω': 3,\n",
      "                         '∆': 3,\n",
      "                         'j': 1}),\n",
      " 'length': 408,\n",
      " 'relative_freq': {'+': 1.9607843137254901,\n",
      "                   '/': 1.4705882352941175,\n",
      "                   'A': 1.9607843137254901,\n",
      "                   'B': 2.941176470588235,\n",
      "                   'D': 1.4705882352941175,\n",
      "                   'E': 2.2058823529411766,\n",
      "                   'F': 1.4705882352941175,\n",
      "                   'G': 1.715686274509804,\n",
      "                   'H': 1.9607843137254901,\n",
      "                   'I': 2.696078431372549,\n",
      "                   'J': 1.4705882352941175,\n",
      "                   'K': 1.2254901960784315,\n",
      "                   'L': 1.9607843137254901,\n",
      "                   'M': 1.9607843137254901,\n",
      "                   'N': 1.4705882352941175,\n",
      "                   'O': 1.715686274509804,\n",
      "                   'P': 2.696078431372549,\n",
      "                   'Q': 1.2254901960784315,\n",
      "                   'R': 2.941176470588235,\n",
      "                   'S': 1.4705882352941175,\n",
      "                   'T': 1.715686274509804,\n",
      "                   'V': 2.2058823529411766,\n",
      "                   'W': 2.2058823529411766,\n",
      "                   'X': 2.2058823529411766,\n",
      "                   'Z': 1.9607843137254901,\n",
      "                   '\\\\': 1.2254901960784315,\n",
      "                   '^': 1.4705882352941175,\n",
      "                   'j': 0.24509803921568626,\n",
      "                   'u': 2.450980392156863,\n",
      "                   'y': 2.450980392156863,\n",
      "                   '¢': 0.9803921568627451,\n",
      "                   '£': 1.9607843137254901,\n",
      "                   '§': 0.9803921568627451,\n",
      "                   'µ': 1.9607843137254901,\n",
      "                   'º': 3.431372549019608,\n",
      "                   'À': 2.2058823529411766,\n",
      "                   'Ã': 1.2254901960784315,\n",
      "                   'Ç': 1.2254901960784315,\n",
      "                   'æ': 1.9607843137254901,\n",
      "                   'ƒ': 1.4705882352941175,\n",
      "                   'Ω': 0.7352941176470588,\n",
      "                   'π': 1.4705882352941175,\n",
      "                   '–': 1.4705882352941175,\n",
      "                   '—': 3.9215686274509802,\n",
      "                   '‘': 1.715686274509804,\n",
      "                   '“': 1.715686274509804,\n",
      "                   '•': 1.715686274509804,\n",
      "                   '∆': 0.7352941176470588,\n",
      "                   '∏': 1.9607843137254901,\n",
      "                   '∑': 2.450980392156863,\n",
      "                   '√': 1.4705882352941175,\n",
      "                   '∞': 1.9607843137254901,\n",
      "                   '∫': 2.696078431372549,\n",
      "                   '≈': 2.450980392156863},\n",
      " 'vocab': ['∫', 'À', 'ƒ', 'N', 'W', '/', 'V',\n",
      "           'O', 'J', 'µ', '√', 'M', 'º', '“',\n",
      "           'π', '–', '\\\\', 'P', '∑', 'T',\n",
      "           '§', 'L', '¢', '+', 'R', '£', 'Ç',\n",
      "           'u', '∞', '^', 'Q', '∆', 'S', 'Ω',\n",
      "           'E', 'A', 'Z', '∏', '≈', 'æ', 'G',\n",
      "           '‘', 'Ã', '•', 'K', 'B', 'D', 'y',\n",
      "           'I', 'F', 'X', 'H', '—', 'j'],\n",
      " 'vocab_length': 54}\n"
     ]
    }
   ],
   "source": [
    "cipher_desc = get_statistics(cipher, cipher=True)\n",
    "pp.pprint(cipher_desc)"
   ]
  },
  {
   "cell_type": "markdown",
   "metadata": {},
   "source": [
    "The default solution matches the frequency of symbols in the cipher text with frequency of letters in the plaintext language (in this case, English). Note that this is just some text in English used to compute letter frequencies. We do not have access to the real plaintext in this homework. \n",
    "\n",
    "In order to do compute plaintext frequencies, we use an English dataset has no punctuation or spaces and all characters are lowercase."
   ]
  },
  {
   "cell_type": "code",
   "execution_count": 12,
   "metadata": {},
   "outputs": [
    {
     "name": "stdout",
     "output_type": "stream",
     "text": [
      "{'frequencies': Counter({'e': 1001029,\n",
      "                         't': 725515,\n",
      "                         'a': 716871,\n",
      "                         'i': 609790,\n",
      "                         'n': 605384,\n",
      "                         'o': 595295,\n",
      "                         'r': 547660,\n",
      "                         's': 544866,\n",
      "                         'h': 404479,\n",
      "                         'l': 340389,\n",
      "                         'd': 339004,\n",
      "                         'c': 271811,\n",
      "                         'u': 215523,\n",
      "                         'm': 214359,\n",
      "                         'f': 184661,\n",
      "                         'g': 168439,\n",
      "                         'p': 166824,\n",
      "                         'w': 142745,\n",
      "                         'b': 130070,\n",
      "                         'y': 126667,\n",
      "                         'v': 86098,\n",
      "                         'k': 56452,\n",
      "                         'j': 18131,\n",
      "                         'x': 15796,\n",
      "                         'z': 9903,\n",
      "                         'q': 7356}),\n",
      " 'length': 8245117,\n",
      " 'relative_freq': {'a': 8.69449153965917,\n",
      "                   'b': 1.5775397729346958,\n",
      "                   'c': 3.296629993243273,\n",
      "                   'd': 4.111572946751393,\n",
      "                   'e': 12.140870772361387,\n",
      "                   'f': 2.2396407473659865,\n",
      "                   'g': 2.0428939941058446,\n",
      "                   'h': 4.905679325108425,\n",
      "                   'i': 7.395771339569833,\n",
      "                   'j': 0.21989985102697754,\n",
      "                   'k': 0.6846719094465245,\n",
      "                   'l': 4.12837076781324,\n",
      "                   'm': 2.5998296931383753,\n",
      "                   'n': 7.342333650329038,\n",
      "                   'o': 7.219970316976703,\n",
      "                   'p': 2.0233066431925706,\n",
      "                   'q': 0.08921644168299855,\n",
      "                   'r': 6.642234427965062,\n",
      "                   's': 6.608347704465564,\n",
      "                   't': 8.799329348510154,\n",
      "                   'u': 2.6139471398647225,\n",
      "                   'v': 1.0442301789046777,\n",
      "                   'w': 1.7312671245295852,\n",
      "                   'x': 0.19158005883967444,\n",
      "                   'y': 1.5362668595242495,\n",
      "                   'z': 0.12010745268987694},\n",
      " 'vocab': ['t', 'p', 'n', 'h', 'a', 'g', 'f',\n",
      "           'i', 'v', 'r', 'd', 'k', 'c', 's',\n",
      "           'b', 'w', 'z', 'e', 'u', 'x', 'q',\n",
      "           'o', 'm', 'l', 'y', 'j'],\n",
      " 'vocab_length': 26}\n"
     ]
    }
   ],
   "source": [
    "# plaintext description\n",
    "plaintxt = read_file(\"data/default.wiki.txt.bz2\")\n",
    "plaintxt_desc = get_statistics(plaintxt, cipher=False)\n",
    "pp.pprint(plaintxt_desc)"
   ]
  },
  {
   "cell_type": "markdown",
   "metadata": {},
   "source": [
    "We have all the tools we need to describe the default solution to this homework.\n",
    "\n",
    "We use a simple frequency matching heuristic to map cipher symbols to English letters.\n",
    "\n",
    "We match the frequencies using the function $f(\\cdot)$ of each cipher symbol $c$ with each English letter $e$:\n",
    "\n",
    "$$h_{c,e} = | \\log(\\frac{f(c)}{f(e)})) | $$\n",
    "\n",
    "For each cipher text symbol $c$ we then compute the most likely plain text symbol $e$ by sorting based on the above score."
   ]
  },
  {
   "cell_type": "code",
   "execution_count": 16,
   "metadata": {},
   "outputs": [],
   "source": [
    "\"\"\"\n",
    "default : frequency matching heuristic\n",
    "\n",
    "Notice how the candidate mappings, a.k.a hypotheses, are first scored with a measure of quality and, \n",
    "then, the best scoring hypothesis is chosen as the winner. \n",
    "\n",
    "The plaintext letters from the winner are then mapped to the respective ciphertext symbols.\n",
    "\"\"\"\n",
    "\n",
    "def find_mappings(ciphertext, plaintext):\n",
    "    mappings = defaultdict(dict)\n",
    "    hypotheses = defaultdict(dict)\n",
    "    # calculate alignment scores\n",
    "    for symbol in ciphertext['vocab']:\n",
    "        for letter in plaintext['vocab']:\n",
    "            hypotheses[symbol][letter] = abs(math.log((ciphertext['relative_freq'][symbol]/plaintext['relative_freq'][letter])))\n",
    "    \n",
    "    # find winner\n",
    "    for sym in hypotheses.keys():\n",
    "        #mappings[sym] = min(lemma_alignment[sym], key=lemma_alignment[sym].get)\n",
    "        winner = sorted(hypotheses[sym].items(), key=lambda kv: kv[1])\n",
    "        mappings[sym] = winner[1][0]\n",
    "    \n",
    "    return mappings"
   ]
  },
  {
   "cell_type": "markdown",
   "metadata": {},
   "source": [
    "Using this scoring function we map the cipher symbol `∆` to `v` in English"
   ]
  },
  {
   "cell_type": "code",
   "execution_count": 23,
   "metadata": {},
   "outputs": [
    {
     "name": "stdout",
     "output_type": "stream",
     "text": [
      "∆ maps to v\n",
      "\n",
      "defaultdict(<class 'dict'>, {'∫': 'm', 'À': 'g', 'ƒ': 'b', 'N': 'b', 'W': 'g', '/': 'b', 'V': 'g', 'O': 'b', 'J': 'b', 'µ': 'g', '√': 'b', 'M': 'g', 'º': 'd', '“': 'b', 'π': 'b', '–': 'b', '\\\\': 'y', 'P': 'm', '∑': 'u', 'T': 'b', '§': 'k', 'L': 'g', '¢': 'k', '+': 'g', 'R': 'u', '£': 'g', 'Ç': 'y', 'u': 'u', '∞': 'g', '^': 'b', 'Q': 'y', '∆': 'v', 'S': 'b', 'Ω': 'v', 'E': 'g', 'A': 'g', 'Z': 'g', '∏': 'g', '≈': 'u', 'æ': 'g', 'G': 'b', '‘': 'b', 'Ã': 'y', '•': 'b', 'K': 'y', 'B': 'u', 'D': 'b', 'y': 'u', 'I': 'm', 'F': 'b', 'X': 'g', 'H': 'g', '—': 'l', 'j': 'x'})\n"
     ]
    }
   ],
   "source": [
    "mapping = find_mappings(cipher_desc, plaintxt_desc)\n",
    "print(\"∆ maps to {}\\n\".format(mapping['∆']))\n",
    "print(mapping)"
   ]
  },
  {
   "cell_type": "markdown",
   "metadata": {},
   "source": [
    "The default solution to this decipherment problem is to take each cipher symbol and map it to the most likely English letter as provided by the `find_mappings` function above."
   ]
  },
  {
   "cell_type": "code",
   "execution_count": 24,
   "metadata": {},
   "outputs": [
    {
     "name": "stdout",
     "output_type": "stream",
     "text": [
      "dmmbgbuumgbubbgbugggububgdgmbyyluugbubumgvlbbbyubggbkbduumbugumvuylggbgggbbbybbgggugubglbbdymgglgggkbkubbmugybglbubybuugbbmuubglgggubuugbgylbmgglyggggbduumbugxbgybkuguggbgbbbggmggbggybuggmdbugbubybubbgbygmggguubmggbggygbbbmybggdgggybgggkmkubggduuggyggbbbmbbbbyvuugvbkbmmmgbggbbgbdmmgvgmuugbuglglgbugbgbdgdumbbguubggbulgbblgggubuyggbugdmugbggybugdkggbbyvgyblgubuugugmbugybmbbgbbbblggbmgbumygggggbdgmglggggbumg\n"
     ]
    }
   ],
   "source": [
    "english_text = []\n",
    "for symbol in cipher_desc['content']:\n",
    "    english_text.append(mapping[symbol])\n",
    "decipherment = ('').join(english_text)\n",
    "print(decipherment)"
   ]
  },
  {
   "cell_type": "markdown",
   "metadata": {},
   "source": [
    "Notice that the default solution provides a very bad decipherment. Your job is to make it better!"
   ]
  },
  {
   "cell_type": "markdown",
   "metadata": {},
   "source": [
    "## Grading"
   ]
  },
  {
   "cell_type": "markdown",
   "metadata": {},
   "source": [
    "Ignore the following cells. They are for grading against the reference decipherment. Based on the clues provided in the decipherment homework description, you can easily find a reasonable reference text online for this cipher text."
   ]
  },
  {
   "cell_type": "code",
   "execution_count": 300,
   "metadata": {},
   "outputs": [
    {
     "name": "stdout",
     "output_type": "stream",
     "text": [
      "Error:  97.30392156862744 Accuracy:  2.6960784313725505\n"
     ]
    }
   ],
   "source": [
    "\"\"\"\n",
    "ATTENTION!\n",
    "For grading purposes only. Don't bundle with the assignment. \n",
    "Make sure '_ref.txt' is removed from the 'data' directory before publishing.\n",
    "\"\"\"\n",
    "\n",
    "def read_gold(gold_file):\n",
    "    with open(gold_file) as f:\n",
    "        gold = f.read()\n",
    "    f.close()\n",
    "    gold = list(gold.strip())\n",
    "    return gold\n",
    "\n",
    "def symbol_error_rate(dec, _gold):\n",
    "    gold = read_gold(_gold)\n",
    "    correct = 0\n",
    "    if len(gold) == len(dec):\n",
    "        for (d,g) in zip(dec, gold):\n",
    "            if d==g:\n",
    "                correct += 1\n",
    "    wrong = len(gold)-correct\n",
    "    error = wrong/len(gold)\n",
    "    \n",
    "    return error\n",
    "    \n",
    "# gold decipherment\n",
    "gold_file = \"data/_ref.txt\"\n",
    "ser = symbol_error_rate(decipherment, gold_file)\n",
    "print('Error: ', ser*100, 'Accuracy: ', (1-ser)*100)"
   ]
  },
  {
   "cell_type": "code",
   "execution_count": null,
   "metadata": {},
   "outputs": [],
   "source": []
  }
 ],
 "metadata": {
  "kernelspec": {
   "display_name": "Python 3",
   "language": "python",
   "name": "python3"
  },
  "language_info": {
   "codemirror_mode": {
    "name": "ipython",
    "version": 3
   },
   "file_extension": ".py",
   "mimetype": "text/x-python",
   "name": "python",
   "nbconvert_exporter": "python",
   "pygments_lexer": "ipython3",
   "version": "3.6.5"
  }
 },
 "nbformat": 4,
 "nbformat_minor": 2
}
